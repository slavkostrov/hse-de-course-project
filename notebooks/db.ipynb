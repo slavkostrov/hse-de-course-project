{
 "cells": [
  {
   "cell_type": "code",
   "execution_count": 1,
   "metadata": {},
   "outputs": [],
   "source": [
    "import sys\n",
    "\n",
    "from sqlalchemy.dialects import postgresql\n",
    "from sqlalchemy.schema import CreateTable\n",
    "\n",
    "sys.path.append(\"../dags\")\n",
    "\n",
    "import os\n",
    "\n",
    "os.environ[\"TABLE_PREFIX\"] = \"SLVK\""
   ]
  },
  {
   "cell_type": "code",
   "execution_count": 2,
   "metadata": {},
   "outputs": [],
   "source": [
    "from modules.models import DeclarativeBase"
   ]
  },
  {
   "cell_type": "code",
   "execution_count": 3,
   "metadata": {},
   "outputs": [
    {
     "name": "stdout",
     "output_type": "stream",
     "text": [
      "====================================================================================================\n",
      "StagingAccount SLVK_stg_accounts\n",
      "SLVK_stg_accounts.account\n",
      "SLVK_stg_accounts.valid_to\n",
      "SLVK_stg_accounts.client\n",
      "====================================================================================================\n",
      "DimAccount SLVK_dwh_dim_accounts\n",
      "SLVK_dwh_dim_accounts.account\n",
      "SLVK_dwh_dim_accounts.valid_to\n",
      "SLVK_dwh_dim_accounts.client\n",
      "SLVK_dwh_dim_accounts.create_dt\n",
      "SLVK_dwh_dim_accounts.update_dt\n",
      "====================================================================================================\n",
      "DimAccountHist SLVK_dwh_dim_accounts_hist\n",
      "SLVK_dwh_dim_accounts_hist.account\n",
      "SLVK_dwh_dim_accounts_hist.valid_to\n",
      "SLVK_dwh_dim_accounts_hist.client\n",
      "SLVK_dwh_dim_accounts_hist.effective_from\n",
      "SLVK_dwh_dim_accounts_hist.effective_to\n",
      "SLVK_dwh_dim_accounts_hist.deleted_flg\n",
      "====================================================================================================\n",
      "StagingPassportBlacklist SLVK_stg_blacklist\n",
      "SLVK_stg_blacklist.date\n",
      "SLVK_stg_blacklist.passport\n",
      "====================================================================================================\n",
      "FactPassportBlacklist SLVK_dwh_fact_passport_blacklist\n",
      "SLVK_dwh_fact_passport_blacklist.id\n",
      "SLVK_dwh_fact_passport_blacklist.date\n",
      "SLVK_dwh_fact_passport_blacklist.passport\n",
      "====================================================================================================\n",
      "StagingCard SLVK_stg_cards\n",
      "SLVK_stg_cards.card_num\n",
      "SLVK_stg_cards.account\n",
      "====================================================================================================\n",
      "DimCard SLVK_dwh_dim_cards\n",
      "SLVK_dwh_dim_cards.card_num\n",
      "SLVK_dwh_dim_cards.account\n",
      "SLVK_dwh_dim_cards.create_dt\n",
      "SLVK_dwh_dim_cards.update_dt\n",
      "====================================================================================================\n",
      "DimCardHist SLVK_dwh_dim_cards_hist\n",
      "SLVK_dwh_dim_cards_hist.card_num\n",
      "SLVK_dwh_dim_cards_hist.account\n",
      "SLVK_dwh_dim_cards_hist.effective_from\n",
      "SLVK_dwh_dim_cards_hist.effective_to\n",
      "SLVK_dwh_dim_cards_hist.deleted_flg\n",
      "====================================================================================================\n",
      "StagingClient SLVK_stg_clients\n",
      "SLVK_stg_clients.client_id\n",
      "SLVK_stg_clients.last_name\n",
      "SLVK_stg_clients.first_name\n",
      "SLVK_stg_clients.patronymic\n",
      "SLVK_stg_clients.date_of_birth\n",
      "SLVK_stg_clients.passport_num\n",
      "SLVK_stg_clients.passport_valid_to\n",
      "SLVK_stg_clients.phone\n",
      "====================================================================================================\n",
      "DimClient SLVK_dwh_dim_clients\n",
      "SLVK_dwh_dim_clients.client_id\n",
      "SLVK_dwh_dim_clients.last_name\n",
      "SLVK_dwh_dim_clients.first_name\n",
      "SLVK_dwh_dim_clients.patronymic\n",
      "SLVK_dwh_dim_clients.date_of_birth\n",
      "SLVK_dwh_dim_clients.passport_num\n",
      "SLVK_dwh_dim_clients.passport_valid_to\n",
      "SLVK_dwh_dim_clients.phone\n",
      "SLVK_dwh_dim_clients.create_dt\n",
      "SLVK_dwh_dim_clients.update_dt\n",
      "====================================================================================================\n",
      "DimClientHist SLVK_dwh_dim_clients_hist\n",
      "SLVK_dwh_dim_clients_hist.client_id\n",
      "SLVK_dwh_dim_clients_hist.last_name\n",
      "SLVK_dwh_dim_clients_hist.first_name\n",
      "SLVK_dwh_dim_clients_hist.patronymic\n",
      "SLVK_dwh_dim_clients_hist.date_of_birth\n",
      "SLVK_dwh_dim_clients_hist.passport_num\n",
      "SLVK_dwh_dim_clients_hist.passport_valid_to\n",
      "SLVK_dwh_dim_clients_hist.phone\n",
      "SLVK_dwh_dim_clients_hist.effective_from\n",
      "SLVK_dwh_dim_clients_hist.effective_to\n",
      "SLVK_dwh_dim_clients_hist.deleted_flg\n",
      "====================================================================================================\n",
      "FraudReport SLVK_rep_fraud\n",
      "SLVK_rep_fraud.id\n",
      "SLVK_rep_fraud.event_dt\n",
      "SLVK_rep_fraud.passport\n",
      "SLVK_rep_fraud.fio\n",
      "SLVK_rep_fraud.phone\n",
      "SLVK_rep_fraud.event_type\n",
      "SLVK_rep_fraud.report_dt\n",
      "====================================================================================================\n",
      "StagingTerminal SLVK_stg_terminals\n",
      "SLVK_stg_terminals.id\n",
      "SLVK_stg_terminals.type\n",
      "SLVK_stg_terminals.city\n",
      "SLVK_stg_terminals.address\n",
      "====================================================================================================\n",
      "DimTerminal SLVK_dwh_dim_terminals\n",
      "SLVK_dwh_dim_terminals.id\n",
      "SLVK_dwh_dim_terminals.type\n",
      "SLVK_dwh_dim_terminals.city\n",
      "SLVK_dwh_dim_terminals.address\n",
      "SLVK_dwh_dim_terminals.create_dt\n",
      "SLVK_dwh_dim_terminals.update_dt\n",
      "====================================================================================================\n",
      "DimTerminalHist SLVK_dwh_dim_terminals_hist\n",
      "SLVK_dwh_dim_terminals_hist.id\n",
      "SLVK_dwh_dim_terminals_hist.type\n",
      "SLVK_dwh_dim_terminals_hist.city\n",
      "SLVK_dwh_dim_terminals_hist.address\n",
      "SLVK_dwh_dim_terminals_hist.effective_from\n",
      "SLVK_dwh_dim_terminals_hist.effective_to\n",
      "SLVK_dwh_dim_terminals_hist.deleted_flg\n",
      "====================================================================================================\n",
      "StagingTransaction SLVK_stg_transactions\n",
      "SLVK_stg_transactions.id\n",
      "SLVK_stg_transactions.date\n",
      "SLVK_stg_transactions.amount\n",
      "SLVK_stg_transactions.card_num\n",
      "SLVK_stg_transactions.oper_type\n",
      "SLVK_stg_transactions.oper_result\n",
      "SLVK_stg_transactions.terminal\n",
      "====================================================================================================\n",
      "FactTransaction SLVK_dwh_fact_transactions\n",
      "SLVK_dwh_fact_transactions.id\n",
      "SLVK_dwh_fact_transactions.date\n",
      "SLVK_dwh_fact_transactions.amount\n",
      "SLVK_dwh_fact_transactions.card_num\n",
      "SLVK_dwh_fact_transactions.oper_type\n",
      "SLVK_dwh_fact_transactions.oper_result\n",
      "SLVK_dwh_fact_transactions.terminal\n"
     ]
    }
   ],
   "source": [
    "for i, (name, cls) in enumerate(DeclarativeBase.registry._class_registry.items()):\n",
    "    if name.startswith(\"_\"):\n",
    "        continue\n",
    "    print(\"=\" * 100)\n",
    "    print(name, cls.__tablename__)\n",
    "    print(\"\\n\".join(map(str, cls.__table__.columns)))\n",
    "\n",
    "    if not cls.__tablename__.startswith(\"SLVK\"):\n",
    "        raise\n",
    "\n",
    "    with open(\"../main.ddl.sql\", \"w\" if i == 0 else \"a\") as fout:\n",
    "        print(f\"-- {name} -- \", file=fout)\n",
    "        print(CreateTable(cls.__table__, if_not_exists=True).compile(dialect=postgresql.dialect()), file=fout)\n",
    "        # print(\"\", file=fout)"
   ]
  },
  {
   "cell_type": "code",
   "execution_count": null,
   "metadata": {},
   "outputs": [],
   "source": []
  },
  {
   "cell_type": "code",
   "execution_count": 4,
   "metadata": {},
   "outputs": [
    {
     "name": "stderr",
     "output_type": "stream",
     "text": [
      "INFO:root:start loading source: DimSource(path='info.clients', source_type='table', target_table=<class 'modules.models.client.StagingClient'>, validator=<class 'modules.models.client.ClientModel'>, dim_table=<class 'modules.models.client.DimClient'>, dim_hist_table=<class 'modules.models.client.DimClientHist'>)\n",
      "INFO:root:loaded data from: info.clients\n",
      "INFO:root:validate data with <class 'modules.models.client.ClientModel'>\n",
      "INFO:root:truncate target table before loading: <class 'modules.models.client.StagingClient'>\n",
      "INFO:root:loaded 50 records into db\n",
      "INFO:root:start loading source: DimSource(path='../data/terminals_{today}.xlsx', source_type='excel', target_table=<class 'modules.models.terminal.StagingTerminal'>, validator=<class 'modules.models.terminal.TerminalModel'>, dim_table=<class 'modules.models.terminal.DimTerminal'>, dim_hist_table=<class 'modules.models.terminal.DimTerminalHist'>)\n",
      "INFO:root:loaded data from: ../data/terminals_01032021.xlsx\n",
      "INFO:root:validate data with <class 'modules.models.terminal.TerminalModel'>\n",
      "INFO:root:truncate target table before loading: <class 'modules.models.terminal.StagingTerminal'>\n",
      "INFO:root:loaded 150 records into db\n",
      "INFO:root:start loading source: DimSource(path='info.accounts', source_type='table', target_table=<class 'modules.models.account.StagingAccount'>, validator=<class 'modules.models.account.AccountModel'>, dim_table=<class 'modules.models.account.DimAccount'>, dim_hist_table=<class 'modules.models.account.DimAccountHist'>)\n",
      "INFO:root:loaded data from: info.accounts\n",
      "INFO:root:validate data with <class 'modules.models.account.AccountModel'>\n",
      "INFO:root:truncate target table before loading: <class 'modules.models.account.StagingAccount'>\n",
      "INFO:root:loaded 77 records into db\n",
      "INFO:root:start loading source: DimSource(path='info.cards', source_type='table', target_table=<class 'modules.models.card.StagingCard'>, validator=<class 'modules.models.card.CardModel'>, dim_table=<class 'modules.models.card.DimCard'>, dim_hist_table=<class 'modules.models.card.DimCardHist'>)\n",
      "INFO:root:loaded data from: info.cards\n",
      "INFO:root:validate data with <class 'modules.models.card.CardModel'>\n",
      "INFO:root:truncate target table before loading: <class 'modules.models.card.StagingCard'>\n",
      "INFO:root:loaded 195 records into db\n",
      "INFO:root:start loading source: FactSource(path='../data/transactions_{today}.txt', source_type='txt', target_table=<class 'modules.models.transaction.StagingTransaction'>, validator=<class 'modules.models.transaction.TransactionModel'>, fact_table=<class 'modules.models.transaction.FactTransaction'>)\n",
      "INFO:root:loaded data from: ../data/transactions_01032021.txt\n",
      "INFO:root:validate data with <class 'modules.models.transaction.TransactionModel'>\n",
      "INFO:root:truncate target table before loading: <class 'modules.models.transaction.StagingTransaction'>\n",
      "INFO:root:loaded 15650 records into db\n",
      "INFO:root:start loading source: FactSource(path='../data/passport_blacklist_{today}.xlsx', source_type='excel', target_table=<class 'modules.models.blacklist.StagingPassportBlacklist'>, validator=<class 'modules.models.blacklist.BlacklistModel'>, fact_table=<class 'modules.models.blacklist.FactPassportBlacklist'>)\n",
      "INFO:root:loaded data from: ../data/passport_blacklist_01032021.xlsx\n",
      "INFO:root:validate data with <class 'modules.models.blacklist.BlacklistModel'>\n",
      "INFO:root:truncate target table before loading: <class 'modules.models.blacklist.StagingPassportBlacklist'>\n",
      "INFO:root:loaded 7 records into db\n",
      "INFO:root:logging into fact table: FactSource(path='../data/transactions_{today}.txt', source_type='txt', target_table=<class 'modules.models.transaction.StagingTransaction'>, validator=<class 'modules.models.transaction.TransactionModel'>, fact_table=<class 'modules.models.transaction.FactTransaction'>)\n",
      "INFO:root:logging into fact table: FactSource(path='../data/passport_blacklist_{today}.xlsx', source_type='excel', target_table=<class 'modules.models.blacklist.StagingPassportBlacklist'>, validator=<class 'modules.models.blacklist.BlacklistModel'>, fact_table=<class 'modules.models.blacklist.FactPassportBlacklist'>)\n",
      "INFO:root:start loading source: DimSource(path='info.clients', source_type='table', target_table=<class 'modules.models.client.StagingClient'>, validator=<class 'modules.models.client.ClientModel'>, dim_table=<class 'modules.models.client.DimClient'>, dim_hist_table=<class 'modules.models.client.DimClientHist'>)\n",
      "INFO:root:loaded data from: info.clients\n",
      "INFO:root:validate data with <class 'modules.models.client.ClientModel'>\n",
      "INFO:root:truncate target table before loading: <class 'modules.models.client.StagingClient'>\n",
      "INFO:root:loaded 50 records into db\n",
      "INFO:root:start loading source: DimSource(path='../data/terminals_{today}.xlsx', source_type='excel', target_table=<class 'modules.models.terminal.StagingTerminal'>, validator=<class 'modules.models.terminal.TerminalModel'>, dim_table=<class 'modules.models.terminal.DimTerminal'>, dim_hist_table=<class 'modules.models.terminal.DimTerminalHist'>)\n",
      "INFO:root:loaded data from: ../data/terminals_02032021.xlsx\n",
      "INFO:root:validate data with <class 'modules.models.terminal.TerminalModel'>\n",
      "INFO:root:truncate target table before loading: <class 'modules.models.terminal.StagingTerminal'>\n",
      "INFO:root:loaded 151 records into db\n",
      "INFO:root:start loading source: DimSource(path='info.accounts', source_type='table', target_table=<class 'modules.models.account.StagingAccount'>, validator=<class 'modules.models.account.AccountModel'>, dim_table=<class 'modules.models.account.DimAccount'>, dim_hist_table=<class 'modules.models.account.DimAccountHist'>)\n",
      "INFO:root:loaded data from: info.accounts\n",
      "INFO:root:validate data with <class 'modules.models.account.AccountModel'>\n",
      "INFO:root:truncate target table before loading: <class 'modules.models.account.StagingAccount'>\n",
      "INFO:root:loaded 77 records into db\n",
      "INFO:root:start loading source: DimSource(path='info.cards', source_type='table', target_table=<class 'modules.models.card.StagingCard'>, validator=<class 'modules.models.card.CardModel'>, dim_table=<class 'modules.models.card.DimCard'>, dim_hist_table=<class 'modules.models.card.DimCardHist'>)\n",
      "INFO:root:loaded data from: info.cards\n",
      "INFO:root:validate data with <class 'modules.models.card.CardModel'>\n",
      "INFO:root:truncate target table before loading: <class 'modules.models.card.StagingCard'>\n",
      "INFO:root:loaded 195 records into db\n",
      "INFO:root:start loading source: FactSource(path='../data/transactions_{today}.txt', source_type='txt', target_table=<class 'modules.models.transaction.StagingTransaction'>, validator=<class 'modules.models.transaction.TransactionModel'>, fact_table=<class 'modules.models.transaction.FactTransaction'>)\n",
      "INFO:root:loaded data from: ../data/transactions_02032021.txt\n",
      "INFO:root:validate data with <class 'modules.models.transaction.TransactionModel'>\n",
      "INFO:root:truncate target table before loading: <class 'modules.models.transaction.StagingTransaction'>\n",
      "INFO:root:loaded 15686 records into db\n",
      "INFO:root:start loading source: FactSource(path='../data/passport_blacklist_{today}.xlsx', source_type='excel', target_table=<class 'modules.models.blacklist.StagingPassportBlacklist'>, validator=<class 'modules.models.blacklist.BlacklistModel'>, fact_table=<class 'modules.models.blacklist.FactPassportBlacklist'>)\n",
      "INFO:root:loaded data from: ../data/passport_blacklist_02032021.xlsx\n",
      "INFO:root:validate data with <class 'modules.models.blacklist.BlacklistModel'>\n",
      "INFO:root:truncate target table before loading: <class 'modules.models.blacklist.StagingPassportBlacklist'>\n",
      "INFO:root:loaded 15 records into db\n",
      "INFO:root:logging into fact table: FactSource(path='../data/transactions_{today}.txt', source_type='txt', target_table=<class 'modules.models.transaction.StagingTransaction'>, validator=<class 'modules.models.transaction.TransactionModel'>, fact_table=<class 'modules.models.transaction.FactTransaction'>)\n",
      "INFO:root:logging into fact table: FactSource(path='../data/passport_blacklist_{today}.xlsx', source_type='excel', target_table=<class 'modules.models.blacklist.StagingPassportBlacklist'>, validator=<class 'modules.models.blacklist.BlacklistModel'>, fact_table=<class 'modules.models.blacklist.FactPassportBlacklist'>)\n",
      "INFO:root:start loading source: DimSource(path='info.clients', source_type='table', target_table=<class 'modules.models.client.StagingClient'>, validator=<class 'modules.models.client.ClientModel'>, dim_table=<class 'modules.models.client.DimClient'>, dim_hist_table=<class 'modules.models.client.DimClientHist'>)\n",
      "INFO:root:loaded data from: info.clients\n",
      "INFO:root:validate data with <class 'modules.models.client.ClientModel'>\n",
      "INFO:root:truncate target table before loading: <class 'modules.models.client.StagingClient'>\n",
      "INFO:root:loaded 50 records into db\n",
      "INFO:root:start loading source: DimSource(path='../data/terminals_{today}.xlsx', source_type='excel', target_table=<class 'modules.models.terminal.StagingTerminal'>, validator=<class 'modules.models.terminal.TerminalModel'>, dim_table=<class 'modules.models.terminal.DimTerminal'>, dim_hist_table=<class 'modules.models.terminal.DimTerminalHist'>)\n",
      "INFO:root:loaded data from: ../data/terminals_03032021.xlsx\n",
      "INFO:root:validate data with <class 'modules.models.terminal.TerminalModel'>\n",
      "INFO:root:truncate target table before loading: <class 'modules.models.terminal.StagingTerminal'>\n",
      "INFO:root:loaded 150 records into db\n",
      "INFO:root:start loading source: DimSource(path='info.accounts', source_type='table', target_table=<class 'modules.models.account.StagingAccount'>, validator=<class 'modules.models.account.AccountModel'>, dim_table=<class 'modules.models.account.DimAccount'>, dim_hist_table=<class 'modules.models.account.DimAccountHist'>)\n",
      "INFO:root:loaded data from: info.accounts\n",
      "INFO:root:validate data with <class 'modules.models.account.AccountModel'>\n",
      "INFO:root:truncate target table before loading: <class 'modules.models.account.StagingAccount'>\n",
      "INFO:root:loaded 77 records into db\n",
      "INFO:root:start loading source: DimSource(path='info.cards', source_type='table', target_table=<class 'modules.models.card.StagingCard'>, validator=<class 'modules.models.card.CardModel'>, dim_table=<class 'modules.models.card.DimCard'>, dim_hist_table=<class 'modules.models.card.DimCardHist'>)\n",
      "INFO:root:loaded data from: info.cards\n",
      "INFO:root:validate data with <class 'modules.models.card.CardModel'>\n",
      "INFO:root:truncate target table before loading: <class 'modules.models.card.StagingCard'>\n",
      "INFO:root:loaded 195 records into db\n",
      "INFO:root:start loading source: FactSource(path='../data/transactions_{today}.txt', source_type='txt', target_table=<class 'modules.models.transaction.StagingTransaction'>, validator=<class 'modules.models.transaction.TransactionModel'>, fact_table=<class 'modules.models.transaction.FactTransaction'>)\n",
      "INFO:root:loaded data from: ../data/transactions_03032021.txt\n",
      "INFO:root:validate data with <class 'modules.models.transaction.TransactionModel'>\n",
      "INFO:root:truncate target table before loading: <class 'modules.models.transaction.StagingTransaction'>\n",
      "INFO:root:loaded 15780 records into db\n",
      "INFO:root:start loading source: FactSource(path='../data/passport_blacklist_{today}.xlsx', source_type='excel', target_table=<class 'modules.models.blacklist.StagingPassportBlacklist'>, validator=<class 'modules.models.blacklist.BlacklistModel'>, fact_table=<class 'modules.models.blacklist.FactPassportBlacklist'>)\n",
      "INFO:root:loaded data from: ../data/passport_blacklist_03032021.xlsx\n",
      "INFO:root:validate data with <class 'modules.models.blacklist.BlacklistModel'>\n",
      "INFO:root:truncate target table before loading: <class 'modules.models.blacklist.StagingPassportBlacklist'>\n",
      "INFO:root:loaded 24 records into db\n",
      "INFO:root:logging into fact table: FactSource(path='../data/transactions_{today}.txt', source_type='txt', target_table=<class 'modules.models.transaction.StagingTransaction'>, validator=<class 'modules.models.transaction.TransactionModel'>, fact_table=<class 'modules.models.transaction.FactTransaction'>)\n",
      "INFO:root:logging into fact table: FactSource(path='../data/passport_blacklist_{today}.xlsx', source_type='excel', target_table=<class 'modules.models.blacklist.StagingPassportBlacklist'>, validator=<class 'modules.models.blacklist.BlacklistModel'>, fact_table=<class 'modules.models.blacklist.FactPassportBlacklist'>)\n"
     ]
    }
   ],
   "source": [
    "import datetime\n",
    "\n",
    "from modules.data.build_report import generate_fraud_report\n",
    "from modules.data.dim_hist_load import load_to_dim_hist\n",
    "from modules.data.dim_load import load_tables_to_dim\n",
    "from modules.data.fact_load import load_fact_data\n",
    "from modules.data.staging_load import load_data_into_staging\n",
    "from modules.db.utils import engine\n",
    "from modules.models import create_tables\n",
    "\n",
    "for date in [datetime.date(2021, 3, 1), datetime.date(2021, 3, 2), datetime.date(2021, 3, 3)]:\n",
    "    create_tables(engine=engine)\n",
    "    load_data_into_staging(date=date)\n",
    "    load_tables_to_dim()\n",
    "    load_to_dim_hist()\n",
    "    load_fact_data()\n",
    "    generate_fraud_report(date=date)"
   ]
  },
  {
   "cell_type": "code",
   "execution_count": 5,
   "metadata": {},
   "outputs": [],
   "source": [
    "from modules.data.build_report import generate_fraud_report\n",
    "from modules.data.dim_hist_load import load_to_dim_hist\n",
    "from modules.data.dim_load import load_tables_to_dim\n",
    "from modules.data.fact_load import load_fact_data\n",
    "from modules.data.staging_load import load_data_into_staging\n",
    "from modules.db.utils import engine\n",
    "from modules.models import create_tables"
   ]
  },
  {
   "cell_type": "code",
   "execution_count": 6,
   "metadata": {},
   "outputs": [],
   "source": [
    "from modules.data.source import DEFAULT_SOURCE_LIST"
   ]
  },
  {
   "cell_type": "code",
   "execution_count": 7,
   "metadata": {},
   "outputs": [],
   "source": [
    "source = DEFAULT_SOURCE_LIST[0]"
   ]
  },
  {
   "cell_type": "code",
   "execution_count": 16,
   "metadata": {},
   "outputs": [
    {
     "name": "stdout",
     "output_type": "stream",
     "text": [
      "{'update_dt', 'create_dt'}\n",
      "{'update_dt', 'create_dt'}\n",
      "{'update_dt', 'create_dt'}\n",
      "{'update_dt', 'create_dt'}\n"
     ]
    },
    {
     "ename": "AttributeError",
     "evalue": "'FactSource' object has no attribute 'dim_table'",
     "output_type": "error",
     "traceback": [
      "\u001b[0;31m---------------------------------------------------------------------------\u001b[0m",
      "\u001b[0;31mAttributeError\u001b[0m                            Traceback (most recent call last)",
      "Cell \u001b[0;32mIn[16], line 6\u001b[0m\n\u001b[1;32m      3\u001b[0m \u001b[38;5;28;01mfor\u001b[39;00m source \u001b[38;5;129;01min\u001b[39;00m DEFAULT_SOURCE_LIST:\n\u001b[1;32m      4\u001b[0m     \u001b[38;5;66;03m# print(source)\u001b[39;00m\n\u001b[1;32m      5\u001b[0m     inspect(source\u001b[38;5;241m.\u001b[39mtarget_table)\u001b[38;5;241m.\u001b[39mprimary_key\n\u001b[0;32m----> 6\u001b[0m     \u001b[38;5;28mprint\u001b[39m(\u001b[38;5;28mset\u001b[39m(\u001b[38;5;28mmap\u001b[39m(\u001b[38;5;28;01mlambda\u001b[39;00m x: x\u001b[38;5;241m.\u001b[39mname, source\u001b[38;5;241m.\u001b[39mtarget_table\u001b[38;5;241m.\u001b[39m__mapper__\u001b[38;5;241m.\u001b[39mcolumns)) \u001b[38;5;241m^\u001b[39m \u001b[38;5;28mset\u001b[39m(\u001b[38;5;28mmap\u001b[39m(\u001b[38;5;28;01mlambda\u001b[39;00m x: x\u001b[38;5;241m.\u001b[39mname, \u001b[43msource\u001b[49m\u001b[38;5;241;43m.\u001b[39;49m\u001b[43mdim_table\u001b[49m\u001b[38;5;241m.\u001b[39m__mapper__\u001b[38;5;241m.\u001b[39mcolumns)))\n",
      "\u001b[0;31mAttributeError\u001b[0m: 'FactSource' object has no attribute 'dim_table'"
     ]
    }
   ],
   "source": [
    "from sqlalchemy.inspection import inspect\n",
    "\n",
    "for source in DEFAULT_SOURCE_LIST:\n",
    "    # print(source)\n",
    "    inspect(source.target_table).primary_key\n",
    "    print(\n",
    "        set(map(lambda x: x.name, source.target_table.__mapper__.columns))\n",
    "        ^ set(map(lambda x: x.name, source.dim_table.__mapper__.columns))\n",
    "    )"
   ]
  },
  {
   "cell_type": "code",
   "execution_count": 24,
   "metadata": {},
   "outputs": [
    {
     "data": {
      "text/plain": [
       "[Column('id', String(), table=<SLVK_stg_transactions>, primary_key=True, nullable=False),\n",
       " Column('date', DateTime(), table=<SLVK_stg_transactions>, nullable=False),\n",
       " Column('amount', Float(), table=<SLVK_stg_transactions>, nullable=False),\n",
       " Column('card_num', String(), table=<SLVK_stg_transactions>, nullable=False),\n",
       " Column('oper_type', String(), table=<SLVK_stg_transactions>, nullable=False),\n",
       " Column('oper_result', String(), table=<SLVK_stg_transactions>, nullable=False),\n",
       " Column('terminal', String(), table=<SLVK_stg_transactions>, nullable=False)]"
      ]
     },
     "execution_count": 24,
     "metadata": {},
     "output_type": "execute_result"
    }
   ],
   "source": [
    "list(inspect(source.target_table).columns)"
   ]
  },
  {
   "cell_type": "code",
   "execution_count": 21,
   "metadata": {},
   "outputs": [
    {
     "data": {
      "text/plain": [
       "<sqlalchemy.orm.attributes.InstrumentedAttribute at 0x11543bb00>"
      ]
     },
     "execution_count": 21,
     "metadata": {},
     "output_type": "execute_result"
    }
   ],
   "source": [
    "source.target_table.id"
   ]
  },
  {
   "cell_type": "code",
   "execution_count": 22,
   "metadata": {},
   "outputs": [
    {
     "ename": "TypeError",
     "evalue": "<class 'sqlalchemy.orm.decl_api.DeclarativeMeta'> is not a generic class",
     "output_type": "error",
     "traceback": [
      "\u001b[0;31m---------------------------------------------------------------------------\u001b[0m",
      "\u001b[0;31mTypeError\u001b[0m                                 Traceback (most recent call last)",
      "Cell \u001b[0;32mIn[22], line 1\u001b[0m\n\u001b[0;32m----> 1\u001b[0m \u001b[43msource\u001b[49m\u001b[38;5;241;43m.\u001b[39;49m\u001b[43mtarget_table\u001b[49m\u001b[43m[\u001b[49m\u001b[38;5;124;43m\"\u001b[39;49m\u001b[38;5;124;43mid\u001b[39;49m\u001b[38;5;124;43m\"\u001b[39;49m\u001b[43m]\u001b[49m\n",
      "File \u001b[0;32m~/my/hse-mlds/subjects/data-engineering/project/.conda/lib/python3.12/typing.py:398\u001b[0m, in \u001b[0;36m_tp_cache.<locals>.decorator.<locals>.inner\u001b[0;34m(*args, **kwds)\u001b[0m\n\u001b[1;32m    396\u001b[0m \u001b[38;5;28;01mexcept\u001b[39;00m \u001b[38;5;167;01mTypeError\u001b[39;00m:\n\u001b[1;32m    397\u001b[0m     \u001b[38;5;28;01mpass\u001b[39;00m  \u001b[38;5;66;03m# All real errors (not unhashable args) are raised below.\u001b[39;00m\n\u001b[0;32m--> 398\u001b[0m \u001b[38;5;28;01mreturn\u001b[39;00m \u001b[43mfunc\u001b[49m\u001b[43m(\u001b[49m\u001b[38;5;241;43m*\u001b[39;49m\u001b[43margs\u001b[49m\u001b[43m,\u001b[49m\u001b[43m \u001b[49m\u001b[38;5;241;43m*\u001b[39;49m\u001b[38;5;241;43m*\u001b[39;49m\u001b[43mkwds\u001b[49m\u001b[43m)\u001b[49m\n",
      "File \u001b[0;32m~/my/hse-mlds/subjects/data-engineering/project/.conda/lib/python3.12/typing.py:1110\u001b[0m, in \u001b[0;36m_generic_class_getitem\u001b[0;34m(cls, params)\u001b[0m\n\u001b[1;32m   1108\u001b[0m     \u001b[38;5;28;01mif\u001b[39;00m prepare \u001b[38;5;129;01mis\u001b[39;00m \u001b[38;5;129;01mnot\u001b[39;00m \u001b[38;5;28;01mNone\u001b[39;00m:\n\u001b[1;32m   1109\u001b[0m         params \u001b[38;5;241m=\u001b[39m prepare(\u001b[38;5;28mcls\u001b[39m, params)\n\u001b[0;32m-> 1110\u001b[0m \u001b[43m_check_generic\u001b[49m\u001b[43m(\u001b[49m\u001b[38;5;28;43mcls\u001b[39;49m\u001b[43m,\u001b[49m\u001b[43m \u001b[49m\u001b[43mparams\u001b[49m\u001b[43m,\u001b[49m\u001b[43m \u001b[49m\u001b[38;5;28;43mlen\u001b[39;49m\u001b[43m(\u001b[49m\u001b[38;5;28;43mcls\u001b[39;49m\u001b[38;5;241;43m.\u001b[39;49m\u001b[43m__parameters__\u001b[49m\u001b[43m)\u001b[49m\u001b[43m)\u001b[49m\n\u001b[1;32m   1112\u001b[0m new_args \u001b[38;5;241m=\u001b[39m []\n\u001b[1;32m   1113\u001b[0m \u001b[38;5;28;01mfor\u001b[39;00m param, new_arg \u001b[38;5;129;01min\u001b[39;00m \u001b[38;5;28mzip\u001b[39m(\u001b[38;5;28mcls\u001b[39m\u001b[38;5;241m.\u001b[39m__parameters__, params):\n",
      "File \u001b[0;32m~/my/hse-mlds/subjects/data-engineering/project/.conda/lib/python3.12/site-packages/typing_extensions.py:2922\u001b[0m, in \u001b[0;36m_check_generic\u001b[0;34m(cls, parameters, elen)\u001b[0m\n\u001b[1;32m   2917\u001b[0m \u001b[38;5;250m\u001b[39m\u001b[38;5;124;03m\"\"\"Check correct count for parameters of a generic cls (internal helper).\u001b[39;00m\n\u001b[1;32m   2918\u001b[0m \n\u001b[1;32m   2919\u001b[0m \u001b[38;5;124;03mThis gives a nice error message in case of count mismatch.\u001b[39;00m\n\u001b[1;32m   2920\u001b[0m \u001b[38;5;124;03m\"\"\"\u001b[39;00m\n\u001b[1;32m   2921\u001b[0m \u001b[38;5;28;01mif\u001b[39;00m \u001b[38;5;129;01mnot\u001b[39;00m elen:\n\u001b[0;32m-> 2922\u001b[0m     \u001b[38;5;28;01mraise\u001b[39;00m \u001b[38;5;167;01mTypeError\u001b[39;00m(\u001b[38;5;124mf\u001b[39m\u001b[38;5;124m\"\u001b[39m\u001b[38;5;132;01m{\u001b[39;00m\u001b[38;5;28mcls\u001b[39m\u001b[38;5;132;01m}\u001b[39;00m\u001b[38;5;124m is not a generic class\u001b[39m\u001b[38;5;124m\"\u001b[39m)\n\u001b[1;32m   2923\u001b[0m alen \u001b[38;5;241m=\u001b[39m \u001b[38;5;28mlen\u001b[39m(parameters)\n\u001b[1;32m   2924\u001b[0m \u001b[38;5;28;01mif\u001b[39;00m alen \u001b[38;5;241m!=\u001b[39m elen:\n",
      "\u001b[0;31mTypeError\u001b[0m: <class 'sqlalchemy.orm.decl_api.DeclarativeMeta'> is not a generic class"
     ]
    }
   ],
   "source": [
    "source.target_table[\"id\"]"
   ]
  },
  {
   "cell_type": "code",
   "execution_count": 5,
   "metadata": {},
   "outputs": [],
   "source": [
    "import sys\n",
    "\n",
    "sys.path.append(\"../dags/\")\n",
    "import datetime\n",
    "\n",
    "from modules.db.utils import Session\n",
    "from modules.models import (\n",
    "    DimAccount,\n",
    "    DimCard,\n",
    "    DimClient,\n",
    "    DimTerminal,\n",
    "    FactTransaction,\n",
    ")\n",
    "from sqlalchemy import Date, and_, cast, func, or_\n",
    "from sqlalchemy.orm import Session\n",
    "\n",
    "session = Session()\n",
    "\n",
    "subquery = (\n",
    "    session.query(\n",
    "        FactTransaction.date.label(\"transaction_date\"),\n",
    "        DimClient.passport_num.label(\"passport\"),\n",
    "        DimClient.last_name,\n",
    "        DimClient.first_name,\n",
    "        DimClient.patronymic,\n",
    "        DimClient.phone,\n",
    "        FactTransaction.terminal,\n",
    "        DimTerminal.city,\n",
    "        func.lag(DimTerminal.city)\n",
    "        .over(partition_by=DimClient.client_id, order_by=FactTransaction.date)\n",
    "        .label(\"previous_city\"),\n",
    "        func.lag(FactTransaction.date)\n",
    "        .over(partition_by=DimClient.client_id, order_by=FactTransaction.date)\n",
    "        .label(\"previous_dttm\"),\n",
    "        func.lead(DimTerminal.city)\n",
    "        .over(partition_by=DimClient.client_id, order_by=FactTransaction.date)\n",
    "        .label(\"next_city\"),\n",
    "        func.lead(FactTransaction.date)\n",
    "        .over(partition_by=DimClient.client_id, order_by=FactTransaction.date)\n",
    "        .label(\"next_dttm\"),\n",
    "    )\n",
    "    .select_from(FactTransaction)\n",
    "    .join(DimCard, FactTransaction.card_num == DimCard.card_num)\n",
    "    .join(DimAccount, DimCard.account == DimAccount.account)\n",
    "    .join(DimClient, DimAccount.client == DimClient.client_id)\n",
    "    .join(DimTerminal, FactTransaction.terminal == DimTerminal.id)\n",
    "    .subquery()\n",
    ")\n",
    "\n",
    "query = (\n",
    "    session.query(\n",
    "        subquery.c.transaction_date,\n",
    "        subquery.c.passport,\n",
    "        subquery.c.last_name,\n",
    "        subquery.c.first_name,\n",
    "        subquery.c.patronymic,\n",
    "        subquery.c.phone,\n",
    "        subquery.c.terminal,\n",
    "    )\n",
    "    .filter(\n",
    "        or_(\n",
    "            and_(\n",
    "                subquery.c.city != subquery.c.previous_city,\n",
    "                subquery.c.transaction_date - subquery.c.previous_dttm < datetime.timedelta(hours=1),\n",
    "            ),\n",
    "            and_(\n",
    "                subquery.c.city != subquery.c.next_city,\n",
    "                subquery.c.next_dttm - subquery.c.transaction_date < datetime.timedelta(hours=1),\n",
    "            ),\n",
    "        ),\n",
    "    )\n",
    "    .filter(cast(FactTransaction.date, Date) == date)\n",
    ")"
   ]
  },
  {
   "cell_type": "code",
   "execution_count": 6,
   "metadata": {},
   "outputs": [
    {
     "data": {
      "text/plain": [
       "'1:00:00'"
      ]
     },
     "execution_count": 6,
     "metadata": {},
     "output_type": "execute_result"
    }
   ],
   "source": [
    "str(datetime.timedelta(hours=1))"
   ]
  },
  {
   "cell_type": "code",
   "execution_count": 7,
   "metadata": {},
   "outputs": [
    {
     "name": "stdout",
     "output_type": "stream",
     "text": [
      "SELECT anon_1.transaction_date, anon_1.passport, anon_1.last_name, anon_1.first_name, anon_1.patronymic, anon_1.phone, anon_1.terminal \n",
      "FROM (SELECT public.\"SLVK_dwh_fact_transactions\".date AS transaction_date, public.\"SLVK_dwh_dim_clients\".passport_num AS passport, public.\"SLVK_dwh_dim_clients\".last_name AS last_name, public.\"SLVK_dwh_dim_clients\".first_name AS first_name, public.\"SLVK_dwh_dim_clients\".patronymic AS patronymic, public.\"SLVK_dwh_dim_clients\".phone AS phone, public.\"SLVK_dwh_fact_transactions\".terminal AS terminal, public.\"SLVK_dwh_dim_terminals\".city AS city, lag(public.\"SLVK_dwh_dim_terminals\".city) OVER (PARTITION BY public.\"SLVK_dwh_dim_clients\".client_id ORDER BY public.\"SLVK_dwh_fact_transactions\".date) AS previous_city, lag(public.\"SLVK_dwh_fact_transactions\".date) OVER (PARTITION BY public.\"SLVK_dwh_dim_clients\".client_id ORDER BY public.\"SLVK_dwh_fact_transactions\".date) AS previous_dttm, lead(public.\"SLVK_dwh_dim_terminals\".city) OVER (PARTITION BY public.\"SLVK_dwh_dim_clients\".client_id ORDER BY public.\"SLVK_dwh_fact_transactions\".date) AS next_city, lead(public.\"SLVK_dwh_fact_transactions\".date) OVER (PARTITION BY public.\"SLVK_dwh_dim_clients\".client_id ORDER BY public.\"SLVK_dwh_fact_transactions\".date) AS next_dttm \n",
      "FROM public.\"SLVK_dwh_fact_transactions\" JOIN public.\"SLVK_dwh_dim_cards\" ON public.\"SLVK_dwh_fact_transactions\".card_num = public.\"SLVK_dwh_dim_cards\".card_num JOIN public.\"SLVK_dwh_dim_accounts\" ON public.\"SLVK_dwh_dim_cards\".account = public.\"SLVK_dwh_dim_accounts\".account JOIN public.\"SLVK_dwh_dim_clients\" ON public.\"SLVK_dwh_dim_accounts\".client = public.\"SLVK_dwh_dim_clients\".client_id JOIN public.\"SLVK_dwh_dim_terminals\" ON public.\"SLVK_dwh_fact_transactions\".terminal = public.\"SLVK_dwh_dim_terminals\".id) AS anon_1, public.\"SLVK_dwh_fact_transactions\" \n",
      "WHERE (anon_1.city != anon_1.previous_city AND anon_1.transaction_date - anon_1.previous_dttm < %(param_1)s OR anon_1.city != anon_1.next_city AND anon_1.next_dttm - anon_1.transaction_date < %(param_2)s) AND CAST(public.\"SLVK_dwh_fact_transactions\".date AS DATE) = %(param_3)s\n"
     ]
    }
   ],
   "source": [
    "from sqlalchemy.dialects import postgresql\n",
    "\n",
    "print(query.statement.compile(dialect=postgresql.dialect()))"
   ]
  },
  {
   "cell_type": "code",
   "execution_count": 19,
   "metadata": {},
   "outputs": [
    {
     "ename": "OperationalError",
     "evalue": "(psycopg2.OperationalError) could not receive data from server: Operation timed out\nSSL SYSCALL error: Operation timed out\n\n[SQL: SELECT public.\"SLVK_dwh_fact_transactions\".date AS transaction_date, public.\"SLVK_dwh_dim_clients\".passport_num AS passport, public.\"SLVK_dwh_dim_clients\".last_name AS \"public_SLVK_dwh_dim_clients_last_name\", public.\"SLVK_dwh_dim_clients\".first_name AS \"public_SLVK_dwh_dim_clients_first_name\", public.\"SLVK_dwh_dim_clients\".patronymic AS \"public_SLVK_dwh_dim_clients_patronymic\", public.\"SLVK_dwh_dim_clients\".phone AS \"public_SLVK_dwh_dim_clients_phone\", public.\"SLVK_dwh_fact_transactions\".terminal AS \"public_SLVK_dwh_fact_transactions_terminal\" \nFROM public.\"SLVK_dwh_fact_transactions\" JOIN public.\"SLVK_dwh_dim_cards\" ON public.\"SLVK_dwh_fact_transactions\".card_num = public.\"SLVK_dwh_dim_cards\".card_num JOIN public.\"SLVK_dwh_dim_accounts\" ON public.\"SLVK_dwh_dim_cards\".account = public.\"SLVK_dwh_dim_accounts\".account JOIN public.\"SLVK_dwh_dim_clients\" ON public.\"SLVK_dwh_dim_accounts\".client = public.\"SLVK_dwh_dim_clients\".client_id JOIN public.\"SLVK_dwh_dim_terminals\" ON public.\"SLVK_dwh_fact_transactions\".terminal = public.\"SLVK_dwh_dim_terminals\".id \nWHERE rank(public.\"SLVK_dwh_fact_transactions\".amount) OVER (PARTITION BY public.\"SLVK_dwh_dim_clients\".client_id ORDER BY public.\"SLVK_dwh_fact_transactions\".date ROWS BETWEEN %(param_1)s PRECEDING AND CURRENT ROW) = %(param_2)s AND CAST(public.\"SLVK_dwh_fact_transactions\".date AS DATE) = %(param_3)s]\n[parameters: {'param_1': 2, 'param_2': 3, 'param_3': datetime.date(2021, 3, 3)}]\n(Background on this error at: https://sqlalche.me/e/20/e3q8)",
     "output_type": "error",
     "traceback": [
      "\u001b[0;31m---------------------------------------------------------------------------\u001b[0m",
      "\u001b[0;31mOperationalError\u001b[0m                          Traceback (most recent call last)",
      "File \u001b[0;32m~/my/hse-mlds/subjects/data-engineering/project/.conda/lib/python3.12/site-packages/sqlalchemy/engine/base.py:1967\u001b[0m, in \u001b[0;36m_exec_single_context\u001b[0;34m(self, dialect, context, statement, parameters)\u001b[0m\n\u001b[1;32m   1961\u001b[0m \u001b[38;5;28;01mtry\u001b[39;00m:\n\u001b[1;32m   1962\u001b[0m     \u001b[38;5;66;03m# non-DBAPI error - if we already got a context,\u001b[39;00m\n\u001b[1;32m   1963\u001b[0m     \u001b[38;5;66;03m# or there's no string statement, don't wrap it\u001b[39;00m\n\u001b[1;32m   1964\u001b[0m     should_wrap \u001b[38;5;241m=\u001b[39m \u001b[38;5;28misinstance\u001b[39m(e, \u001b[38;5;28mself\u001b[39m\u001b[38;5;241m.\u001b[39mdialect\u001b[38;5;241m.\u001b[39mdbapi\u001b[38;5;241m.\u001b[39mError) \u001b[38;5;129;01mor\u001b[39;00m (\n\u001b[1;32m   1965\u001b[0m         statement \u001b[38;5;129;01mis\u001b[39;00m \u001b[38;5;129;01mnot\u001b[39;00m \u001b[38;5;28;01mNone\u001b[39;00m\n\u001b[1;32m   1966\u001b[0m         \u001b[38;5;129;01mand\u001b[39;00m context \u001b[38;5;129;01mis\u001b[39;00m \u001b[38;5;28;01mNone\u001b[39;00m\n\u001b[0;32m-> 1967\u001b[0m         \u001b[38;5;129;01mand\u001b[39;00m \u001b[38;5;129;01mnot\u001b[39;00m is_exit_exception\n\u001b[1;32m   1968\u001b[0m     )\n\u001b[1;32m   1970\u001b[0m     \u001b[38;5;28;01mif\u001b[39;00m should_wrap:\n",
      "File \u001b[0;32m~/my/hse-mlds/subjects/data-engineering/project/.conda/lib/python3.12/site-packages/sqlalchemy/engine/default.py:941\u001b[0m, in \u001b[0;36mdo_execute\u001b[0;34m(self, cursor, statement, parameters, context)\u001b[0m\n\u001b[1;32m    937\u001b[0m     \u001b[38;5;28;01mreturn\u001b[39;00m \u001b[38;5;28mself\u001b[39m\n\u001b[1;32m    939\u001b[0m \u001b[38;5;129m@classmethod\u001b[39m\n\u001b[1;32m    940\u001b[0m \u001b[38;5;28;01mdef\u001b[39;00m \u001b[38;5;21m_init_compiled\u001b[39m(\n\u001b[0;32m--> 941\u001b[0m     \u001b[38;5;28mcls\u001b[39m,\n\u001b[1;32m    942\u001b[0m     dialect,\n\u001b[1;32m    943\u001b[0m     connection,\n\u001b[1;32m    944\u001b[0m     dbapi_connection,\n\u001b[1;32m    945\u001b[0m     execution_options,\n\u001b[1;32m    946\u001b[0m     compiled,\n\u001b[1;32m    947\u001b[0m     parameters,\n\u001b[1;32m    948\u001b[0m     invoked_statement,\n\u001b[1;32m    949\u001b[0m     extracted_parameters,\n\u001b[1;32m    950\u001b[0m     cache_hit\u001b[38;5;241m=\u001b[39mCACHING_DISABLED,\n\u001b[1;32m    951\u001b[0m ):\n\u001b[1;32m    952\u001b[0m \u001b[38;5;250m    \u001b[39m\u001b[38;5;124;03m\"\"\"Initialize execution context for a Compiled construct.\"\"\"\u001b[39;00m\n",
      "\u001b[0;31mOperationalError\u001b[0m: could not receive data from server: Operation timed out\nSSL SYSCALL error: Operation timed out\n",
      "\nThe above exception was the direct cause of the following exception:\n",
      "\u001b[0;31mOperationalError\u001b[0m                          Traceback (most recent call last)",
      "Cell \u001b[0;32mIn[19], line 1\u001b[0m\n\u001b[0;32m----> 1\u001b[0m \u001b[43mquery\u001b[49m\u001b[38;5;241;43m.\u001b[39;49m\u001b[43mall\u001b[49m\u001b[43m(\u001b[49m\u001b[43m)\u001b[49m\n",
      "File \u001b[0;32m~/my/hse-mlds/subjects/data-engineering/project/.conda/lib/python3.12/site-packages/sqlalchemy/orm/query.py:2673\u001b[0m, in \u001b[0;36mall\u001b[0;34m(self)\u001b[0m\n\u001b[1;32m   2658\u001b[0m \u001b[38;5;129m@_generative\u001b[39m\n\u001b[1;32m   2659\u001b[0m \u001b[38;5;129m@_assertions\u001b[39m(_no_statement_condition)\n\u001b[1;32m   2660\u001b[0m \u001b[38;5;28;01mdef\u001b[39;00m \u001b[38;5;21mslice\u001b[39m(\u001b[38;5;28mself\u001b[39m, start, stop):\n\u001b[1;32m   2661\u001b[0m \u001b[38;5;250m    \u001b[39m\u001b[38;5;124;03m\"\"\"Computes the \"slice\" of the :class:`_query.Query` represented by\u001b[39;00m\n\u001b[1;32m   2662\u001b[0m \u001b[38;5;124;03m    the given indices and returns the resulting :class:`_query.Query`.\u001b[39;00m\n\u001b[1;32m   2663\u001b[0m \n\u001b[1;32m   2664\u001b[0m \u001b[38;5;124;03m    The start and stop indices behave like the argument to Python's\u001b[39;00m\n\u001b[1;32m   2665\u001b[0m \u001b[38;5;124;03m    built-in :func:`range` function. This method provides an\u001b[39;00m\n\u001b[1;32m   2666\u001b[0m \u001b[38;5;124;03m    alternative to using ``LIMIT``/``OFFSET`` to get a slice of the\u001b[39;00m\n\u001b[1;32m   2667\u001b[0m \u001b[38;5;124;03m    query.\u001b[39;00m\n\u001b[1;32m   2668\u001b[0m \n\u001b[1;32m   2669\u001b[0m \u001b[38;5;124;03m    For example, ::\u001b[39;00m\n\u001b[1;32m   2670\u001b[0m \n\u001b[1;32m   2671\u001b[0m \u001b[38;5;124;03m        session.query(User).order_by(User.id).slice(1, 3)\u001b[39;00m\n\u001b[1;32m   2672\u001b[0m \n\u001b[0;32m-> 2673\u001b[0m \u001b[38;5;124;03m    renders as\u001b[39;00m\n\u001b[1;32m   2674\u001b[0m \n\u001b[1;32m   2675\u001b[0m \u001b[38;5;124;03m    .. sourcecode:: sql\u001b[39;00m\n\u001b[1;32m   2676\u001b[0m \n\u001b[1;32m   2677\u001b[0m \u001b[38;5;124;03m       SELECT users.id AS users_id,\u001b[39;00m\n\u001b[1;32m   2678\u001b[0m \u001b[38;5;124;03m              users.name AS users_name\u001b[39;00m\n\u001b[1;32m   2679\u001b[0m \u001b[38;5;124;03m       FROM users ORDER BY users.id\u001b[39;00m\n\u001b[1;32m   2680\u001b[0m \u001b[38;5;124;03m       LIMIT ? OFFSET ?\u001b[39;00m\n\u001b[1;32m   2681\u001b[0m \u001b[38;5;124;03m       (2, 1)\u001b[39;00m\n\u001b[1;32m   2682\u001b[0m \n\u001b[1;32m   2683\u001b[0m \u001b[38;5;124;03m    .. seealso::\u001b[39;00m\n\u001b[1;32m   2684\u001b[0m \n\u001b[1;32m   2685\u001b[0m \u001b[38;5;124;03m       :meth:`_query.Query.limit`\u001b[39;00m\n\u001b[1;32m   2686\u001b[0m \n\u001b[1;32m   2687\u001b[0m \u001b[38;5;124;03m       :meth:`_query.Query.offset`\u001b[39;00m\n\u001b[1;32m   2688\u001b[0m \n\u001b[1;32m   2689\u001b[0m \u001b[38;5;124;03m    \"\"\"\u001b[39;00m\n\u001b[1;32m   2691\u001b[0m     \u001b[38;5;28mself\u001b[39m\u001b[38;5;241m.\u001b[39m_limit_clause, \u001b[38;5;28mself\u001b[39m\u001b[38;5;241m.\u001b[39m_offset_clause \u001b[38;5;241m=\u001b[39m sql_util\u001b[38;5;241m.\u001b[39m_make_slice(\n\u001b[1;32m   2692\u001b[0m         \u001b[38;5;28mself\u001b[39m\u001b[38;5;241m.\u001b[39m_limit_clause, \u001b[38;5;28mself\u001b[39m\u001b[38;5;241m.\u001b[39m_offset_clause, start, stop\n\u001b[1;32m   2693\u001b[0m     )\n",
      "File \u001b[0;32m~/my/hse-mlds/subjects/data-engineering/project/.conda/lib/python3.12/site-packages/sqlalchemy/orm/query.py:2827\u001b[0m, in \u001b[0;36m_iter\u001b[0;34m(self)\u001b[0m\n\u001b[1;32m   2821\u001b[0m \u001b[38;5;28;01mdef\u001b[39;00m \u001b[38;5;21mone_or_none\u001b[39m(\u001b[38;5;28mself\u001b[39m):\n\u001b[1;32m   2822\u001b[0m \u001b[38;5;250m    \u001b[39m\u001b[38;5;124;03m\"\"\"Return at most one result or raise an exception.\u001b[39;00m\n\u001b[1;32m   2823\u001b[0m \n\u001b[1;32m   2824\u001b[0m \u001b[38;5;124;03m    Returns ``None`` if the query selects\u001b[39;00m\n\u001b[1;32m   2825\u001b[0m \u001b[38;5;124;03m    no rows.  Raises ``sqlalchemy.orm.exc.MultipleResultsFound``\u001b[39;00m\n\u001b[1;32m   2826\u001b[0m \u001b[38;5;124;03m    if multiple object identities are returned, or if multiple\u001b[39;00m\n\u001b[0;32m-> 2827\u001b[0m \u001b[38;5;124;03m    rows are returned for a query that returns only scalar values\u001b[39;00m\n\u001b[1;32m   2828\u001b[0m \u001b[38;5;124;03m    as opposed to full identity-mapped entities.\u001b[39;00m\n\u001b[1;32m   2829\u001b[0m \n\u001b[1;32m   2830\u001b[0m \u001b[38;5;124;03m    Calling :meth:`_query.Query.one_or_none`\u001b[39;00m\n\u001b[1;32m   2831\u001b[0m \u001b[38;5;124;03m    results in an execution of the\u001b[39;00m\n\u001b[1;32m   2832\u001b[0m \u001b[38;5;124;03m    underlying query.\u001b[39;00m\n\u001b[1;32m   2833\u001b[0m \n\u001b[1;32m   2834\u001b[0m \u001b[38;5;124;03m    .. versionadded:: 1.0.9\u001b[39;00m\n\u001b[1;32m   2835\u001b[0m \n\u001b[1;32m   2836\u001b[0m \u001b[38;5;124;03m        Added :meth:`_query.Query.one_or_none`\u001b[39;00m\n\u001b[1;32m   2837\u001b[0m \n\u001b[1;32m   2838\u001b[0m \u001b[38;5;124;03m    .. seealso::\u001b[39;00m\n\u001b[1;32m   2839\u001b[0m \n\u001b[1;32m   2840\u001b[0m \u001b[38;5;124;03m        :meth:`_query.Query.first`\u001b[39;00m\n\u001b[1;32m   2841\u001b[0m \n\u001b[1;32m   2842\u001b[0m \u001b[38;5;124;03m        :meth:`_query.Query.one`\u001b[39;00m\n\u001b[1;32m   2843\u001b[0m \n\u001b[1;32m   2844\u001b[0m \u001b[38;5;124;03m    \"\"\"\u001b[39;00m\n\u001b[1;32m   2845\u001b[0m     \u001b[38;5;28;01mreturn\u001b[39;00m \u001b[38;5;28mself\u001b[39m\u001b[38;5;241m.\u001b[39m_iter()\u001b[38;5;241m.\u001b[39mone_or_none()\n",
      "File \u001b[0;32m~/my/hse-mlds/subjects/data-engineering/project/.conda/lib/python3.12/site-packages/sqlalchemy/orm/session.py:2362\u001b[0m, in \u001b[0;36mexecute\u001b[0;34m(self, statement, params, execution_options, bind_arguments, _parent_execute_state, _add_event)\u001b[0m\n\u001b[1;32m   2336\u001b[0m \u001b[38;5;28;01mdef\u001b[39;00m \u001b[38;5;21mexpire_all\u001b[39m(\u001b[38;5;28mself\u001b[39m):\n\u001b[1;32m   2337\u001b[0m \u001b[38;5;250m    \u001b[39m\u001b[38;5;124;03m\"\"\"Expires all persistent instances within this Session.\u001b[39;00m\n\u001b[1;32m   2338\u001b[0m \n\u001b[1;32m   2339\u001b[0m \u001b[38;5;124;03m    When any attributes on a persistent instance is next accessed,\u001b[39;00m\n\u001b[1;32m   2340\u001b[0m \u001b[38;5;124;03m    a query will be issued using the\u001b[39;00m\n\u001b[1;32m   2341\u001b[0m \u001b[38;5;124;03m    :class:`.Session` object's current transactional context in order to\u001b[39;00m\n\u001b[1;32m   2342\u001b[0m \u001b[38;5;124;03m    load all expired attributes for the given instance.   Note that\u001b[39;00m\n\u001b[1;32m   2343\u001b[0m \u001b[38;5;124;03m    a highly isolated transaction will return the same values as were\u001b[39;00m\n\u001b[1;32m   2344\u001b[0m \u001b[38;5;124;03m    previously read in that same transaction, regardless of changes\u001b[39;00m\n\u001b[1;32m   2345\u001b[0m \u001b[38;5;124;03m    in database state outside of that transaction.\u001b[39;00m\n\u001b[1;32m   2346\u001b[0m \n\u001b[1;32m   2347\u001b[0m \u001b[38;5;124;03m    To expire individual objects and individual attributes\u001b[39;00m\n\u001b[1;32m   2348\u001b[0m \u001b[38;5;124;03m    on those objects, use :meth:`Session.expire`.\u001b[39;00m\n\u001b[1;32m   2349\u001b[0m \n\u001b[1;32m   2350\u001b[0m \u001b[38;5;124;03m    The :class:`.Session` object's default behavior is to\u001b[39;00m\n\u001b[1;32m   2351\u001b[0m \u001b[38;5;124;03m    expire all state whenever the :meth:`Session.rollback`\u001b[39;00m\n\u001b[1;32m   2352\u001b[0m \u001b[38;5;124;03m    or :meth:`Session.commit` methods are called, so that new\u001b[39;00m\n\u001b[1;32m   2353\u001b[0m \u001b[38;5;124;03m    state can be loaded for the new transaction.   For this reason,\u001b[39;00m\n\u001b[1;32m   2354\u001b[0m \u001b[38;5;124;03m    calling :meth:`Session.expire_all` should not be needed when\u001b[39;00m\n\u001b[1;32m   2355\u001b[0m \u001b[38;5;124;03m    autocommit is ``False``, assuming the transaction is isolated.\u001b[39;00m\n\u001b[1;32m   2356\u001b[0m \n\u001b[1;32m   2357\u001b[0m \u001b[38;5;124;03m    .. seealso::\u001b[39;00m\n\u001b[1;32m   2358\u001b[0m \n\u001b[1;32m   2359\u001b[0m \u001b[38;5;124;03m        :ref:`session_expire` - introductory material\u001b[39;00m\n\u001b[1;32m   2360\u001b[0m \n\u001b[1;32m   2361\u001b[0m \u001b[38;5;124;03m        :meth:`.Session.expire`\u001b[39;00m\n\u001b[0;32m-> 2362\u001b[0m \n\u001b[1;32m   2363\u001b[0m \u001b[38;5;124;03m        :meth:`.Session.refresh`\u001b[39;00m\n\u001b[1;32m   2364\u001b[0m \n\u001b[1;32m   2365\u001b[0m \u001b[38;5;124;03m        :meth:`_orm.Query.populate_existing`\u001b[39;00m\n\u001b[1;32m   2366\u001b[0m \n\u001b[1;32m   2367\u001b[0m \u001b[38;5;124;03m    \"\"\"\u001b[39;00m\n\u001b[1;32m   2368\u001b[0m     \u001b[38;5;28;01mfor\u001b[39;00m state \u001b[38;5;129;01min\u001b[39;00m \u001b[38;5;28mself\u001b[39m\u001b[38;5;241m.\u001b[39midentity_map\u001b[38;5;241m.\u001b[39mall_states():\n\u001b[1;32m   2369\u001b[0m         state\u001b[38;5;241m.\u001b[39m_expire(state\u001b[38;5;241m.\u001b[39mdict, \u001b[38;5;28mself\u001b[39m\u001b[38;5;241m.\u001b[39midentity_map\u001b[38;5;241m.\u001b[39m_modified)\n",
      "File \u001b[0;32m~/my/hse-mlds/subjects/data-engineering/project/.conda/lib/python3.12/site-packages/sqlalchemy/orm/session.py:2247\u001b[0m, in \u001b[0;36m_execute_internal\u001b[0;34m(self, statement, params, execution_options, bind_arguments, _parent_execute_state, _add_event, _scalar_result)\u001b[0m\n\u001b[1;32m   2243\u001b[0m \u001b[38;5;28;01mdef\u001b[39;00m \u001b[38;5;21mrefresh\u001b[39m(\u001b[38;5;28mself\u001b[39m, instance, attribute_names\u001b[38;5;241m=\u001b[39m\u001b[38;5;28;01mNone\u001b[39;00m, with_for_update\u001b[38;5;241m=\u001b[39m\u001b[38;5;28;01mNone\u001b[39;00m):\n\u001b[1;32m   2244\u001b[0m \u001b[38;5;250m    \u001b[39m\u001b[38;5;124;03m\"\"\"Expire and refresh attributes on the given instance.\u001b[39;00m\n\u001b[1;32m   2245\u001b[0m \n\u001b[1;32m   2246\u001b[0m \u001b[38;5;124;03m    The selected attributes will first be expired as they would when using\u001b[39;00m\n\u001b[0;32m-> 2247\u001b[0m \u001b[38;5;124;03m    :meth:`_orm.Session.expire`; then a SELECT statement will be issued to\u001b[39;00m\n\u001b[1;32m   2248\u001b[0m \u001b[38;5;124;03m    the database to refresh column-oriented attributes with the current\u001b[39;00m\n\u001b[1;32m   2249\u001b[0m \u001b[38;5;124;03m    value available in the current transaction.\u001b[39;00m\n\u001b[1;32m   2250\u001b[0m \n\u001b[1;32m   2251\u001b[0m \u001b[38;5;124;03m    :func:`_orm.relationship` oriented attributes will also be immediately\u001b[39;00m\n\u001b[1;32m   2252\u001b[0m \u001b[38;5;124;03m    loaded if they were already eagerly loaded on the object, using the\u001b[39;00m\n\u001b[1;32m   2253\u001b[0m \u001b[38;5;124;03m    same eager loading strategy that they were loaded with originally.\u001b[39;00m\n\u001b[1;32m   2254\u001b[0m \u001b[38;5;124;03m    Unloaded relationship attributes will remain unloaded, as will\u001b[39;00m\n\u001b[1;32m   2255\u001b[0m \u001b[38;5;124;03m    relationship attributes that were originally lazy loaded.\u001b[39;00m\n\u001b[1;32m   2256\u001b[0m \n\u001b[1;32m   2257\u001b[0m \u001b[38;5;124;03m    .. versionadded:: 1.4 - the :meth:`_orm.Session.refresh` method\u001b[39;00m\n\u001b[1;32m   2258\u001b[0m \u001b[38;5;124;03m       can also refresh eagerly loaded attributes.\u001b[39;00m\n\u001b[1;32m   2259\u001b[0m \n\u001b[1;32m   2260\u001b[0m \u001b[38;5;124;03m    .. tip::\u001b[39;00m\n\u001b[1;32m   2261\u001b[0m \n\u001b[1;32m   2262\u001b[0m \u001b[38;5;124;03m        While the :meth:`_orm.Session.refresh` method is capable of\u001b[39;00m\n\u001b[1;32m   2263\u001b[0m \u001b[38;5;124;03m        refreshing both column and relationship oriented attributes, its\u001b[39;00m\n\u001b[1;32m   2264\u001b[0m \u001b[38;5;124;03m        primary focus is on refreshing of local column-oriented attributes\u001b[39;00m\n\u001b[1;32m   2265\u001b[0m \u001b[38;5;124;03m        on a single instance. For more open ended \"refresh\" functionality,\u001b[39;00m\n\u001b[1;32m   2266\u001b[0m \u001b[38;5;124;03m        including the ability to refresh the attributes on many objects at\u001b[39;00m\n\u001b[1;32m   2267\u001b[0m \u001b[38;5;124;03m        once while having explicit control over relationship loader\u001b[39;00m\n\u001b[1;32m   2268\u001b[0m \u001b[38;5;124;03m        strategies, use the\u001b[39;00m\n\u001b[1;32m   2269\u001b[0m \u001b[38;5;124;03m        :ref:`populate existing <orm_queryguide_populate_existing>` feature\u001b[39;00m\n\u001b[1;32m   2270\u001b[0m \u001b[38;5;124;03m        instead.\u001b[39;00m\n\u001b[1;32m   2271\u001b[0m \n\u001b[1;32m   2272\u001b[0m \u001b[38;5;124;03m    Note that a highly isolated transaction will return the same values as\u001b[39;00m\n\u001b[1;32m   2273\u001b[0m \u001b[38;5;124;03m    were previously read in that same transaction, regardless of changes\u001b[39;00m\n\u001b[1;32m   2274\u001b[0m \u001b[38;5;124;03m    in database state outside of that transaction.   Refreshing\u001b[39;00m\n\u001b[1;32m   2275\u001b[0m \u001b[38;5;124;03m    attributes usually only makes sense at the start of a transaction\u001b[39;00m\n\u001b[1;32m   2276\u001b[0m \u001b[38;5;124;03m    where database rows have not yet been accessed.\u001b[39;00m\n\u001b[1;32m   2277\u001b[0m \n\u001b[1;32m   2278\u001b[0m \u001b[38;5;124;03m    :param attribute_names: optional.  An iterable collection of\u001b[39;00m\n\u001b[1;32m   2279\u001b[0m \u001b[38;5;124;03m      string attribute names indicating a subset of attributes to\u001b[39;00m\n\u001b[1;32m   2280\u001b[0m \u001b[38;5;124;03m      be refreshed.\u001b[39;00m\n\u001b[1;32m   2281\u001b[0m \n\u001b[1;32m   2282\u001b[0m \u001b[38;5;124;03m    :param with_for_update: optional boolean ``True`` indicating FOR UPDATE\u001b[39;00m\n\u001b[1;32m   2283\u001b[0m \u001b[38;5;124;03m      should be used, or may be a dictionary containing flags to\u001b[39;00m\n\u001b[1;32m   2284\u001b[0m \u001b[38;5;124;03m      indicate a more specific set of FOR UPDATE flags for the SELECT;\u001b[39;00m\n\u001b[1;32m   2285\u001b[0m \u001b[38;5;124;03m      flags should match the parameters of\u001b[39;00m\n\u001b[1;32m   2286\u001b[0m \u001b[38;5;124;03m      :meth:`_query.Query.with_for_update`.\u001b[39;00m\n\u001b[1;32m   2287\u001b[0m \u001b[38;5;124;03m      Supersedes the :paramref:`.Session.refresh.lockmode` parameter.\u001b[39;00m\n\u001b[1;32m   2288\u001b[0m \n\u001b[1;32m   2289\u001b[0m \u001b[38;5;124;03m    .. seealso::\u001b[39;00m\n\u001b[1;32m   2290\u001b[0m \n\u001b[1;32m   2291\u001b[0m \u001b[38;5;124;03m        :ref:`session_expire` - introductory material\u001b[39;00m\n\u001b[1;32m   2292\u001b[0m \n\u001b[1;32m   2293\u001b[0m \u001b[38;5;124;03m        :meth:`.Session.expire`\u001b[39;00m\n\u001b[1;32m   2294\u001b[0m \n\u001b[1;32m   2295\u001b[0m \u001b[38;5;124;03m        :meth:`.Session.expire_all`\u001b[39;00m\n\u001b[1;32m   2296\u001b[0m \n\u001b[1;32m   2297\u001b[0m \u001b[38;5;124;03m        :ref:`orm_queryguide_populate_existing` - allows any ORM query\u001b[39;00m\n\u001b[1;32m   2298\u001b[0m \u001b[38;5;124;03m        to refresh objects as they would be loaded normally.\u001b[39;00m\n\u001b[1;32m   2299\u001b[0m \n\u001b[1;32m   2300\u001b[0m \u001b[38;5;124;03m    \"\"\"\u001b[39;00m\n\u001b[1;32m   2301\u001b[0m     \u001b[38;5;28;01mtry\u001b[39;00m:\n\u001b[1;32m   2302\u001b[0m         state \u001b[38;5;241m=\u001b[39m attributes\u001b[38;5;241m.\u001b[39minstance_state(instance)\n",
      "File \u001b[0;32m~/my/hse-mlds/subjects/data-engineering/project/.conda/lib/python3.12/site-packages/sqlalchemy/orm/context.py:305\u001b[0m, in \u001b[0;36morm_execute_statement\u001b[0;34m(cls, session, statement, params, execution_options, bind_arguments, conn)\u001b[0m\n\u001b[1;32m    290\u001b[0m     execution_options = execution_options.union(\n\u001b[1;32m    291\u001b[0m         {\n\u001b[1;32m    292\u001b[0m             \"stream_results\": True,\n\u001b[0;32m   (...)\u001b[0m\n\u001b[1;32m    296\u001b[0m         }\n\u001b[1;32m    297\u001b[0m     )\n\u001b[1;32m    299\u001b[0m bind_arguments[\"clause\"] = statement\n\u001b[1;32m    301\u001b[0m # new in 1.4 - the coercions system is leveraged to allow the\n\u001b[1;32m    302\u001b[0m # \"subject\" mapper of a statement be propagated to the top\n\u001b[1;32m    303\u001b[0m # as the statement is built.   \"subject\" mapper is the generally\n\u001b[1;32m    304\u001b[0m # standard object used as an identifier for multi-database schemes.\n\u001b[0;32m--> 305\u001b[0m \n\u001b[1;32m    306\u001b[0m # we are here based on the fact that _propagate_attrs contains\n\u001b[1;32m    307\u001b[0m # \"compile_state_plugin\": \"orm\".   The \"plugin_subject\"\n\u001b[1;32m    308\u001b[0m # needs to be present as well.\n\u001b[1;32m    310\u001b[0m try:\n\u001b[1;32m    311\u001b[0m     plugin_subject = statement._propagate_attrs[\"plugin_subject\"]\n",
      "File \u001b[0;32m~/my/hse-mlds/subjects/data-engineering/project/.conda/lib/python3.12/site-packages/sqlalchemy/engine/base.py:1418\u001b[0m, in \u001b[0;36mexecute\u001b[0;34m(self, statement, parameters, execution_options)\u001b[0m\n\u001b[1;32m   1407\u001b[0m         \u001b[38;5;28mself\u001b[39m\u001b[38;5;241m.\u001b[39mdispatch\u001b[38;5;241m.\u001b[39mafter_execute(\n\u001b[1;32m   1408\u001b[0m             \u001b[38;5;28mself\u001b[39m,\n\u001b[1;32m   1409\u001b[0m             ddl,\n\u001b[0;32m   (...)\u001b[0m\n\u001b[1;32m   1413\u001b[0m             ret,\n\u001b[1;32m   1414\u001b[0m         )\n\u001b[1;32m   1415\u001b[0m     \u001b[38;5;28;01mreturn\u001b[39;00m ret\n\u001b[1;32m   1417\u001b[0m \u001b[38;5;28;01mdef\u001b[39;00m \u001b[38;5;21m_invoke_before_exec_event\u001b[39m(\n\u001b[0;32m-> 1418\u001b[0m     \u001b[38;5;28mself\u001b[39m, elem, distilled_params, execution_options\n\u001b[1;32m   1419\u001b[0m ):\n\u001b[1;32m   1421\u001b[0m     \u001b[38;5;28;01mif\u001b[39;00m \u001b[38;5;28mlen\u001b[39m(distilled_params) \u001b[38;5;241m==\u001b[39m \u001b[38;5;241m1\u001b[39m:\n\u001b[1;32m   1422\u001b[0m         event_multiparams, event_params \u001b[38;5;241m=\u001b[39m [], distilled_params[\u001b[38;5;241m0\u001b[39m]\n",
      "File \u001b[0;32m~/my/hse-mlds/subjects/data-engineering/project/.conda/lib/python3.12/site-packages/sqlalchemy/sql/elements.py:515\u001b[0m, in \u001b[0;36m_execute_on_connection\u001b[0;34m(self, connection, distilled_params, execution_options)\u001b[0m\n\u001b[1;32m    510\u001b[0m \u001b[38;5;28;01mif\u001b[39;00m elem_cache_key:\n\u001b[1;32m    511\u001b[0m     cache_key, extracted_params \u001b[38;5;241m=\u001b[39m elem_cache_key\n\u001b[1;32m    512\u001b[0m     key \u001b[38;5;241m=\u001b[39m (\n\u001b[1;32m    513\u001b[0m         dialect,\n\u001b[1;32m    514\u001b[0m         cache_key,\n\u001b[0;32m--> 515\u001b[0m         \u001b[38;5;28mtuple\u001b[39m(column_keys),\n\u001b[1;32m    516\u001b[0m         \u001b[38;5;28mbool\u001b[39m(schema_translate_map),\n\u001b[1;32m    517\u001b[0m         for_executemany,\n\u001b[1;32m    518\u001b[0m     )\n\u001b[1;32m    519\u001b[0m     compiled_sql \u001b[38;5;241m=\u001b[39m compiled_cache\u001b[38;5;241m.\u001b[39mget(key)\n\u001b[1;32m    521\u001b[0m     \u001b[38;5;28;01mif\u001b[39;00m compiled_sql \u001b[38;5;129;01mis\u001b[39;00m \u001b[38;5;28;01mNone\u001b[39;00m:\n",
      "File \u001b[0;32m~/my/hse-mlds/subjects/data-engineering/project/.conda/lib/python3.12/site-packages/sqlalchemy/engine/base.py:1640\u001b[0m, in \u001b[0;36m_execute_clauseelement\u001b[0;34m(self, elem, distilled_parameters, execution_options)\u001b[0m\n\u001b[1;32m   1633\u001b[0m \u001b[38;5;28;01mdef\u001b[39;00m \u001b[38;5;21mexec_driver_sql\u001b[39m(\n\u001b[1;32m   1634\u001b[0m     \u001b[38;5;28mself\u001b[39m, statement, parameters\u001b[38;5;241m=\u001b[39m\u001b[38;5;28;01mNone\u001b[39;00m, execution_options\u001b[38;5;241m=\u001b[39m\u001b[38;5;28;01mNone\u001b[39;00m\n\u001b[1;32m   1635\u001b[0m ):\n\u001b[1;32m   1636\u001b[0m \u001b[38;5;250m    \u001b[39m\u001b[38;5;124mr\u001b[39m\u001b[38;5;124;03m\"\"\"Executes a SQL statement construct and returns a\u001b[39;00m\n\u001b[1;32m   1637\u001b[0m \u001b[38;5;124;03m    :class:`_engine.CursorResult`.\u001b[39;00m\n\u001b[1;32m   1638\u001b[0m \n\u001b[1;32m   1639\u001b[0m \u001b[38;5;124;03m    :param statement: The statement str to be executed.   Bound parameters\u001b[39;00m\n\u001b[0;32m-> 1640\u001b[0m \u001b[38;5;124;03m     must use the underlying DBAPI's paramstyle, such as \"qmark\",\u001b[39;00m\n\u001b[1;32m   1641\u001b[0m \u001b[38;5;124;03m     \"pyformat\", \"format\", etc.\u001b[39;00m\n\u001b[1;32m   1642\u001b[0m \n\u001b[1;32m   1643\u001b[0m \u001b[38;5;124;03m    :param parameters: represent bound parameter values to be used in the\u001b[39;00m\n\u001b[1;32m   1644\u001b[0m \u001b[38;5;124;03m     execution.  The format is one of:   a dictionary of named parameters,\u001b[39;00m\n\u001b[1;32m   1645\u001b[0m \u001b[38;5;124;03m     a tuple of positional parameters, or a list containing either\u001b[39;00m\n\u001b[1;32m   1646\u001b[0m \u001b[38;5;124;03m     dictionaries or tuples for multiple-execute support.\u001b[39;00m\n\u001b[1;32m   1647\u001b[0m \n\u001b[1;32m   1648\u001b[0m \u001b[38;5;124;03m     E.g. multiple dictionaries::\u001b[39;00m\n\u001b[1;32m   1649\u001b[0m \n\u001b[1;32m   1650\u001b[0m \n\u001b[1;32m   1651\u001b[0m \u001b[38;5;124;03m         conn.exec_driver_sql(\u001b[39;00m\n\u001b[1;32m   1652\u001b[0m \u001b[38;5;124;03m             \"INSERT INTO table (id, value) VALUES (%(id)s, %(value)s)\",\u001b[39;00m\n\u001b[1;32m   1653\u001b[0m \u001b[38;5;124;03m             [{\"id\":1, \"value\":\"v1\"}, {\"id\":2, \"value\":\"v2\"}]\u001b[39;00m\n\u001b[1;32m   1654\u001b[0m \u001b[38;5;124;03m         )\u001b[39;00m\n\u001b[1;32m   1655\u001b[0m \n\u001b[1;32m   1656\u001b[0m \u001b[38;5;124;03m     Single dictionary::\u001b[39;00m\n\u001b[1;32m   1657\u001b[0m \n\u001b[1;32m   1658\u001b[0m \u001b[38;5;124;03m         conn.exec_driver_sql(\u001b[39;00m\n\u001b[1;32m   1659\u001b[0m \u001b[38;5;124;03m             \"INSERT INTO table (id, value) VALUES (%(id)s, %(value)s)\",\u001b[39;00m\n\u001b[1;32m   1660\u001b[0m \u001b[38;5;124;03m             dict(id=1, value=\"v1\")\u001b[39;00m\n\u001b[1;32m   1661\u001b[0m \u001b[38;5;124;03m         )\u001b[39;00m\n\u001b[1;32m   1662\u001b[0m \n\u001b[1;32m   1663\u001b[0m \u001b[38;5;124;03m     Single tuple::\u001b[39;00m\n\u001b[1;32m   1664\u001b[0m \n\u001b[1;32m   1665\u001b[0m \u001b[38;5;124;03m         conn.exec_driver_sql(\u001b[39;00m\n\u001b[1;32m   1666\u001b[0m \u001b[38;5;124;03m             \"INSERT INTO table (id, value) VALUES (?, ?)\",\u001b[39;00m\n\u001b[1;32m   1667\u001b[0m \u001b[38;5;124;03m             (1, 'v1')\u001b[39;00m\n\u001b[1;32m   1668\u001b[0m \u001b[38;5;124;03m         )\u001b[39;00m\n\u001b[1;32m   1669\u001b[0m \n\u001b[1;32m   1670\u001b[0m \u001b[38;5;124;03m     .. note:: The :meth:`_engine.Connection.exec_driver_sql` method does\u001b[39;00m\n\u001b[1;32m   1671\u001b[0m \u001b[38;5;124;03m         not participate in the\u001b[39;00m\n\u001b[1;32m   1672\u001b[0m \u001b[38;5;124;03m         :meth:`_events.ConnectionEvents.before_execute` and\u001b[39;00m\n\u001b[1;32m   1673\u001b[0m \u001b[38;5;124;03m         :meth:`_events.ConnectionEvents.after_execute` events.   To\u001b[39;00m\n\u001b[1;32m   1674\u001b[0m \u001b[38;5;124;03m         intercept calls to :meth:`_engine.Connection.exec_driver_sql`, use\u001b[39;00m\n\u001b[1;32m   1675\u001b[0m \u001b[38;5;124;03m         :meth:`_events.ConnectionEvents.before_cursor_execute` and\u001b[39;00m\n\u001b[1;32m   1676\u001b[0m \u001b[38;5;124;03m         :meth:`_events.ConnectionEvents.after_cursor_execute`.\u001b[39;00m\n\u001b[1;32m   1677\u001b[0m \n\u001b[1;32m   1678\u001b[0m \u001b[38;5;124;03m     .. seealso::\u001b[39;00m\n\u001b[1;32m   1679\u001b[0m \n\u001b[1;32m   1680\u001b[0m \u001b[38;5;124;03m        :pep:`249`\u001b[39;00m\n\u001b[1;32m   1681\u001b[0m \n\u001b[1;32m   1682\u001b[0m \u001b[38;5;124;03m    \"\"\"\u001b[39;00m\n\u001b[1;32m   1684\u001b[0m     args_10style, kwargs_10style \u001b[38;5;241m=\u001b[39m _distill_params_20(parameters)\n\u001b[1;32m   1686\u001b[0m     \u001b[38;5;28;01mreturn\u001b[39;00m \u001b[38;5;28mself\u001b[39m\u001b[38;5;241m.\u001b[39m_exec_driver_sql(\n\u001b[1;32m   1687\u001b[0m         statement,\n\u001b[1;32m   1688\u001b[0m         args_10style,\n\u001b[0;32m   (...)\u001b[0m\n\u001b[1;32m   1691\u001b[0m         future\u001b[38;5;241m=\u001b[39m\u001b[38;5;28;01mTrue\u001b[39;00m,\n\u001b[1;32m   1692\u001b[0m     )\n",
      "File \u001b[0;32m~/my/hse-mlds/subjects/data-engineering/project/.conda/lib/python3.12/site-packages/sqlalchemy/engine/base.py:1846\u001b[0m, in \u001b[0;36m_execute_context\u001b[0;34m(self, dialect, constructor, statement, parameters, execution_options, *args, **kw)\u001b[0m\n\u001b[1;32m   1840\u001b[0m \u001b[38;5;28;01mif\u001b[39;00m \u001b[38;5;129;01mnot\u001b[39;00m result\u001b[38;5;241m.\u001b[39m_soft_closed \u001b[38;5;129;01mand\u001b[39;00m should_close_with_result:\n\u001b[1;32m   1841\u001b[0m     result\u001b[38;5;241m.\u001b[39m_autoclose_connection \u001b[38;5;241m=\u001b[39m \u001b[38;5;28;01mTrue\u001b[39;00m\n\u001b[1;32m   1843\u001b[0m \u001b[38;5;28;01mif\u001b[39;00m (\n\u001b[1;32m   1844\u001b[0m     \u001b[38;5;66;03m# usually we're in a transaction so avoid relatively\u001b[39;00m\n\u001b[1;32m   1845\u001b[0m     \u001b[38;5;66;03m# expensive / legacy should_autocommit call\u001b[39;00m\n\u001b[0;32m-> 1846\u001b[0m     \u001b[38;5;28mself\u001b[39m\u001b[38;5;241m.\u001b[39m_transaction \u001b[38;5;129;01mis\u001b[39;00m \u001b[38;5;28;01mNone\u001b[39;00m\n\u001b[1;32m   1847\u001b[0m     \u001b[38;5;129;01mand\u001b[39;00m context\u001b[38;5;241m.\u001b[39mshould_autocommit\n\u001b[1;32m   1848\u001b[0m ):\n\u001b[1;32m   1849\u001b[0m     \u001b[38;5;28mself\u001b[39m\u001b[38;5;241m.\u001b[39m_commit_impl(autocommit\u001b[38;5;241m=\u001b[39m\u001b[38;5;28;01mTrue\u001b[39;00m)\n\u001b[1;32m   1851\u001b[0m \u001b[38;5;66;03m# for \"connectionless\" execution, we have to close this\u001b[39;00m\n\u001b[1;32m   1852\u001b[0m \u001b[38;5;66;03m# Connection after the statement is complete.\u001b[39;00m\n\u001b[1;32m   1853\u001b[0m \u001b[38;5;66;03m# legacy stuff.\u001b[39;00m\n",
      "File \u001b[0;32m~/my/hse-mlds/subjects/data-engineering/project/.conda/lib/python3.12/site-packages/sqlalchemy/engine/base.py:1986\u001b[0m, in \u001b[0;36m_exec_single_context\u001b[0;34m(self, dialect, context, statement, parameters)\u001b[0m\n\u001b[1;32m   1983\u001b[0m \u001b[38;5;28;01melse\u001b[39;00m:\n\u001b[1;32m   1984\u001b[0m     sqlalchemy_exception \u001b[38;5;241m=\u001b[39m \u001b[38;5;28;01mNone\u001b[39;00m\n\u001b[0;32m-> 1986\u001b[0m newraise \u001b[38;5;241m=\u001b[39m \u001b[38;5;28;01mNone\u001b[39;00m\n\u001b[1;32m   1988\u001b[0m \u001b[38;5;28;01mif\u001b[39;00m (\n\u001b[1;32m   1989\u001b[0m     \u001b[38;5;28mself\u001b[39m\u001b[38;5;241m.\u001b[39m_has_events \u001b[38;5;129;01mor\u001b[39;00m \u001b[38;5;28mself\u001b[39m\u001b[38;5;241m.\u001b[39mengine\u001b[38;5;241m.\u001b[39m_has_events\n\u001b[1;32m   1990\u001b[0m ) \u001b[38;5;129;01mand\u001b[39;00m \u001b[38;5;129;01mnot\u001b[39;00m \u001b[38;5;28mself\u001b[39m\u001b[38;5;241m.\u001b[39m_execution_options\u001b[38;5;241m.\u001b[39mget(\n\u001b[1;32m   1991\u001b[0m     \u001b[38;5;124m\"\u001b[39m\u001b[38;5;124mskip_user_error_events\u001b[39m\u001b[38;5;124m\"\u001b[39m, \u001b[38;5;28;01mFalse\u001b[39;00m\n\u001b[1;32m   1992\u001b[0m ):\n\u001b[1;32m   1993\u001b[0m     ctx \u001b[38;5;241m=\u001b[39m ExceptionContextImpl(\n\u001b[1;32m   1994\u001b[0m         e,\n\u001b[1;32m   1995\u001b[0m         sqlalchemy_exception,\n\u001b[0;32m   (...)\u001b[0m\n\u001b[1;32m   2003\u001b[0m         invalidate_pool_on_disconnect,\n\u001b[1;32m   2004\u001b[0m     )\n",
      "File \u001b[0;32m~/my/hse-mlds/subjects/data-engineering/project/.conda/lib/python3.12/site-packages/sqlalchemy/engine/base.py:2355\u001b[0m, in \u001b[0;36m_handle_dbapi_exception\u001b[0;34m(self, e, statement, parameters, cursor, context, is_sub_exec)\u001b[0m\n\u001b[1;32m   2339\u001b[0m \u001b[38;5;28;01mdef\u001b[39;00m \u001b[38;5;21mrollback\u001b[39m(\u001b[38;5;28mself\u001b[39m):\n\u001b[1;32m   2340\u001b[0m \u001b[38;5;250m    \u001b[39m\u001b[38;5;124;03m\"\"\"Roll back this :class:`.Transaction`.\u001b[39;00m\n\u001b[1;32m   2341\u001b[0m \n\u001b[1;32m   2342\u001b[0m \u001b[38;5;124;03m    The implementation of this may vary based on the type of transaction in\u001b[39;00m\n\u001b[1;32m   2343\u001b[0m \u001b[38;5;124;03m    use:\u001b[39;00m\n\u001b[1;32m   2344\u001b[0m \n\u001b[1;32m   2345\u001b[0m \u001b[38;5;124;03m    * For a simple database transaction (e.g. :class:`.RootTransaction`),\u001b[39;00m\n\u001b[1;32m   2346\u001b[0m \u001b[38;5;124;03m      it corresponds to a ROLLBACK.\u001b[39;00m\n\u001b[1;32m   2347\u001b[0m \n\u001b[1;32m   2348\u001b[0m \u001b[38;5;124;03m    * For a :class:`.NestedTransaction`, it corresponds to a\u001b[39;00m\n\u001b[1;32m   2349\u001b[0m \u001b[38;5;124;03m      \"ROLLBACK TO SAVEPOINT\" operation.\u001b[39;00m\n\u001b[1;32m   2350\u001b[0m \n\u001b[1;32m   2351\u001b[0m \u001b[38;5;124;03m    * For a :class:`.TwoPhaseTransaction`, DBAPI-specific methods for two\u001b[39;00m\n\u001b[1;32m   2352\u001b[0m \u001b[38;5;124;03m      phase transactions may be used.\u001b[39;00m\n\u001b[1;32m   2353\u001b[0m \n\u001b[1;32m   2354\u001b[0m \n\u001b[0;32m-> 2355\u001b[0m \u001b[38;5;124;03m    \"\"\"\u001b[39;00m\n\u001b[1;32m   2356\u001b[0m     \u001b[38;5;28;01mtry\u001b[39;00m:\n\u001b[1;32m   2357\u001b[0m         \u001b[38;5;28mself\u001b[39m\u001b[38;5;241m.\u001b[39m_do_rollback()\n",
      "File \u001b[0;32m~/my/hse-mlds/subjects/data-engineering/project/.conda/lib/python3.12/site-packages/sqlalchemy/engine/base.py:1967\u001b[0m, in \u001b[0;36m_exec_single_context\u001b[0;34m(self, dialect, context, statement, parameters)\u001b[0m\n\u001b[1;32m   1960\u001b[0m \u001b[38;5;28mself\u001b[39m\u001b[38;5;241m.\u001b[39m_reentrant_error \u001b[38;5;241m=\u001b[39m \u001b[38;5;28;01mTrue\u001b[39;00m\n\u001b[1;32m   1961\u001b[0m \u001b[38;5;28;01mtry\u001b[39;00m:\n\u001b[1;32m   1962\u001b[0m     \u001b[38;5;66;03m# non-DBAPI error - if we already got a context,\u001b[39;00m\n\u001b[1;32m   1963\u001b[0m     \u001b[38;5;66;03m# or there's no string statement, don't wrap it\u001b[39;00m\n\u001b[1;32m   1964\u001b[0m     should_wrap \u001b[38;5;241m=\u001b[39m \u001b[38;5;28misinstance\u001b[39m(e, \u001b[38;5;28mself\u001b[39m\u001b[38;5;241m.\u001b[39mdialect\u001b[38;5;241m.\u001b[39mdbapi\u001b[38;5;241m.\u001b[39mError) \u001b[38;5;129;01mor\u001b[39;00m (\n\u001b[1;32m   1965\u001b[0m         statement \u001b[38;5;129;01mis\u001b[39;00m \u001b[38;5;129;01mnot\u001b[39;00m \u001b[38;5;28;01mNone\u001b[39;00m\n\u001b[1;32m   1966\u001b[0m         \u001b[38;5;129;01mand\u001b[39;00m context \u001b[38;5;129;01mis\u001b[39;00m \u001b[38;5;28;01mNone\u001b[39;00m\n\u001b[0;32m-> 1967\u001b[0m         \u001b[38;5;129;01mand\u001b[39;00m \u001b[38;5;129;01mnot\u001b[39;00m is_exit_exception\n\u001b[1;32m   1968\u001b[0m     )\n\u001b[1;32m   1970\u001b[0m     \u001b[38;5;28;01mif\u001b[39;00m should_wrap:\n\u001b[1;32m   1971\u001b[0m         sqlalchemy_exception \u001b[38;5;241m=\u001b[39m exc\u001b[38;5;241m.\u001b[39mDBAPIError\u001b[38;5;241m.\u001b[39minstance(\n\u001b[1;32m   1972\u001b[0m             statement,\n\u001b[1;32m   1973\u001b[0m             parameters,\n\u001b[0;32m   (...)\u001b[0m\n\u001b[1;32m   1981\u001b[0m             \u001b[38;5;28;01melse\u001b[39;00m \u001b[38;5;28;01mNone\u001b[39;00m,\n\u001b[1;32m   1982\u001b[0m         )\n",
      "File \u001b[0;32m~/my/hse-mlds/subjects/data-engineering/project/.conda/lib/python3.12/site-packages/sqlalchemy/engine/default.py:941\u001b[0m, in \u001b[0;36mdo_execute\u001b[0;34m(self, cursor, statement, parameters, context)\u001b[0m\n\u001b[1;32m    935\u001b[0m         \u001b[38;5;28mself\u001b[39m\u001b[38;5;241m.\u001b[39mparameters \u001b[38;5;241m=\u001b[39m [{}]\n\u001b[1;32m    937\u001b[0m     \u001b[38;5;28;01mreturn\u001b[39;00m \u001b[38;5;28mself\u001b[39m\n\u001b[1;32m    939\u001b[0m \u001b[38;5;129m@classmethod\u001b[39m\n\u001b[1;32m    940\u001b[0m \u001b[38;5;28;01mdef\u001b[39;00m \u001b[38;5;21m_init_compiled\u001b[39m(\n\u001b[0;32m--> 941\u001b[0m     \u001b[38;5;28mcls\u001b[39m,\n\u001b[1;32m    942\u001b[0m     dialect,\n\u001b[1;32m    943\u001b[0m     connection,\n\u001b[1;32m    944\u001b[0m     dbapi_connection,\n\u001b[1;32m    945\u001b[0m     execution_options,\n\u001b[1;32m    946\u001b[0m     compiled,\n\u001b[1;32m    947\u001b[0m     parameters,\n\u001b[1;32m    948\u001b[0m     invoked_statement,\n\u001b[1;32m    949\u001b[0m     extracted_parameters,\n\u001b[1;32m    950\u001b[0m     cache_hit\u001b[38;5;241m=\u001b[39mCACHING_DISABLED,\n\u001b[1;32m    951\u001b[0m ):\n\u001b[1;32m    952\u001b[0m \u001b[38;5;250m    \u001b[39m\u001b[38;5;124;03m\"\"\"Initialize execution context for a Compiled construct.\"\"\"\u001b[39;00m\n\u001b[1;32m    954\u001b[0m     \u001b[38;5;28mself\u001b[39m \u001b[38;5;241m=\u001b[39m \u001b[38;5;28mcls\u001b[39m\u001b[38;5;241m.\u001b[39m\u001b[38;5;21m__new__\u001b[39m(\u001b[38;5;28mcls\u001b[39m)\n",
      "\u001b[0;31mOperationalError\u001b[0m: (psycopg2.OperationalError) could not receive data from server: Operation timed out\nSSL SYSCALL error: Operation timed out\n\n[SQL: SELECT public.\"SLVK_dwh_fact_transactions\".date AS transaction_date, public.\"SLVK_dwh_dim_clients\".passport_num AS passport, public.\"SLVK_dwh_dim_clients\".last_name AS \"public_SLVK_dwh_dim_clients_last_name\", public.\"SLVK_dwh_dim_clients\".first_name AS \"public_SLVK_dwh_dim_clients_first_name\", public.\"SLVK_dwh_dim_clients\".patronymic AS \"public_SLVK_dwh_dim_clients_patronymic\", public.\"SLVK_dwh_dim_clients\".phone AS \"public_SLVK_dwh_dim_clients_phone\", public.\"SLVK_dwh_fact_transactions\".terminal AS \"public_SLVK_dwh_fact_transactions_terminal\" \nFROM public.\"SLVK_dwh_fact_transactions\" JOIN public.\"SLVK_dwh_dim_cards\" ON public.\"SLVK_dwh_fact_transactions\".card_num = public.\"SLVK_dwh_dim_cards\".card_num JOIN public.\"SLVK_dwh_dim_accounts\" ON public.\"SLVK_dwh_dim_cards\".account = public.\"SLVK_dwh_dim_accounts\".account JOIN public.\"SLVK_dwh_dim_clients\" ON public.\"SLVK_dwh_dim_accounts\".client = public.\"SLVK_dwh_dim_clients\".client_id JOIN public.\"SLVK_dwh_dim_terminals\" ON public.\"SLVK_dwh_fact_transactions\".terminal = public.\"SLVK_dwh_dim_terminals\".id \nWHERE rank(public.\"SLVK_dwh_fact_transactions\".amount) OVER (PARTITION BY public.\"SLVK_dwh_dim_clients\".client_id ORDER BY public.\"SLVK_dwh_fact_transactions\".date ROWS BETWEEN %(param_1)s PRECEDING AND CURRENT ROW) = %(param_2)s AND CAST(public.\"SLVK_dwh_fact_transactions\".date AS DATE) = %(param_3)s]\n[parameters: {'param_1': 2, 'param_2': 3, 'param_3': datetime.date(2021, 3, 3)}]\n(Background on this error at: https://sqlalche.me/e/20/e3q8)"
     ]
    }
   ],
   "source": [
    "query.all()"
   ]
  },
  {
   "cell_type": "code",
   "execution_count": null,
   "metadata": {},
   "outputs": [],
   "source": []
  }
 ],
 "metadata": {
  "kernelspec": {
   "display_name": ".conda",
   "language": "python",
   "name": "python3"
  },
  "language_info": {
   "codemirror_mode": {
    "name": "ipython",
    "version": 3
   },
   "file_extension": ".py",
   "mimetype": "text/x-python",
   "name": "python",
   "nbconvert_exporter": "python",
   "pygments_lexer": "ipython3",
   "version": "3.12.8"
  }
 },
 "nbformat": 4,
 "nbformat_minor": 2
}
